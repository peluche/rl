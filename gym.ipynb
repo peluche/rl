{
 "cells": [
  {
   "cell_type": "code",
   "execution_count": 8,
   "metadata": {},
   "outputs": [],
   "source": [
    "# %pip install -U gymnasium\n",
    "# %pip install -U gymnasium[classic-control]"
   ]
  },
  {
   "cell_type": "code",
   "execution_count": 55,
   "metadata": {},
   "outputs": [],
   "source": [
    "import random\n",
    "import torch\n",
    "import torch.nn as nn\n",
    "import torch.nn.functional as F\n",
    "import torch.optim as optim\n",
    "import gymnasium as gym\n",
    "import matplotlib.pyplot as plt\n",
    "from IPython import display\n",
    "import ipywidgets as widgets\n",
    "from IPython.display import clear_output\n",
    "import numpy as np\n",
    "\n",
    "device = 'cuda' if torch.cuda.is_available() else 'cpu'"
   ]
  },
  {
   "cell_type": "code",
   "execution_count": 86,
   "metadata": {},
   "outputs": [],
   "source": [
    "LR = 3e-4\n",
    "GAMMA = 0.9\n",
    "MAX_STEPS = 1000\n",
    "N_HIDDEN = 32\n",
    "EPS = torch.finfo(torch.float32).eps\n",
    "ENTROPY_REGULARIZATION = 0.01"
   ]
  },
  {
   "cell_type": "code",
   "execution_count": 10,
   "metadata": {},
   "outputs": [],
   "source": [
    "env = gym.make('CartPole-v1', render_mode='rgb_array')"
   ]
  },
  {
   "cell_type": "markdown",
   "metadata": {},
   "source": [
    "## utils"
   ]
  },
  {
   "cell_type": "code",
   "execution_count": 103,
   "metadata": {},
   "outputs": [],
   "source": [
    "def plot_score(scores, window=50):\n",
    "    averages = []\n",
    "    running_sum = sum(scores[:window])\n",
    "    for i in range(window, len(scores)):\n",
    "        running_sum += scores[i] - scores[i - window]\n",
    "        averages.append(running_sum / window)\n",
    "    plt.plot(scores, label='score')\n",
    "    plt.plot(averages, label=f'windowed average ({window})')\n",
    "    plt.legend()\n",
    "    plt.show()"
   ]
  },
  {
   "cell_type": "code",
   "execution_count": null,
   "metadata": {},
   "outputs": [],
   "source": [
    "@torch.no_grad()\n",
    "def show_play(env, policy, max_steps=MAX_STEPS):\n",
    "    fig, ax = plt.subplots(figsize=(5, 4))\n",
    "    ax.axis('off')\n",
    "    state, _ = env.reset()\n",
    "    img = ax.imshow(env.render())\n",
    "    for t in range(max_steps):\n",
    "        actions = policy(torch.tensor(state).float().to(device))\n",
    "        action = actions.argmax()\n",
    "        state, _, done, _, _ = env.step(action.item())\n",
    "        img.set_data(env.render())\n",
    "        display.display(plt.gcf())\n",
    "        display.clear_output(wait=True)\n",
    "        if done:\n",
    "            print(\"Episode finished after {} timesteps\".format(t + 1))\n",
    "            break"
   ]
  },
  {
   "cell_type": "code",
   "execution_count": 85,
   "metadata": {},
   "outputs": [],
   "source": [
    "def discount_rewards(rewards, gamma):\n",
    "    '''\n",
    "    Compute the discounted rewards backwards through time, e.g.\n",
    "      r0 + gamma * (r1 + gamma * (r2 + gamma * (...)))\n",
    "      [----------------------------------------------]\n",
    "         ^         [---------------------------------]\n",
    "         |           ^           [-------------------]\n",
    "      discount[0]    |             ^           [-----]\n",
    "                  discount[1]      |             ^\n",
    "                                discount[2]      |\n",
    "                                              discount[n]                                              \n",
    "    '''\n",
    "    reward = 0\n",
    "    discounted_rewards = []\n",
    "    for r in rewards[::-1]:\n",
    "        reward = r + gamma * reward\n",
    "        discounted_rewards.append(reward)\n",
    "    return torch.tensor(discounted_rewards[::-1]).to(device)"
   ]
  },
  {
   "cell_type": "markdown",
   "metadata": {},
   "source": [
    "## REINFORCE"
   ]
  },
  {
   "cell_type": "markdown",
   "metadata": {},
   "source": [
    "REINFORCE → REward Increment = Nonnegative Factor x Offset Reinforcement x Characteristic Eligibility"
   ]
  },
  {
   "cell_type": "code",
   "execution_count": 89,
   "metadata": {},
   "outputs": [],
   "source": [
    "class ReinforcePolicy(nn.Module):\n",
    "    def __init__(self, n_in, n_out, n_hidden=N_HIDDEN):\n",
    "        super().__init__()\n",
    "        self.f = nn.Sequential(\n",
    "            nn.Linear(n_in, n_hidden),\n",
    "            nn.ReLU(),\n",
    "            nn.Linear(n_hidden, n_out),\n",
    "            nn.Softmax(dim=-1)\n",
    "        )\n",
    "\n",
    "    def forward(self, x):\n",
    "        return self.f(x)"
   ]
  },
  {
   "cell_type": "code",
   "execution_count": 93,
   "metadata": {},
   "outputs": [],
   "source": [
    "r_policy = ReinforcePolicy(n_in=4, n_out=2).to(device)\n",
    "r_scores = []"
   ]
  },
  {
   "cell_type": "markdown",
   "metadata": {},
   "source": [
    "### train"
   ]
  },
  {
   "cell_type": "code",
   "execution_count": 95,
   "metadata": {},
   "outputs": [
    {
     "name": "stdout",
     "output_type": "stream",
     "text": [
      "    0\t loss: 0.24934285879135132\t episode length: 15\n",
      "  100\t loss: 0.24905599653720856\t episode length: 31\n",
      "  200\t loss: 0.13585060834884644\t episode length: 15\n",
      "  300\t loss: 0.15265369415283203\t episode length: 14\n",
      "  400\t loss: 0.21847501397132874\t episode length: 13\n",
      "  500\t loss: 0.31862711906433105\t episode length: 43\n",
      "  600\t loss: -2.3217530250549316\t episode length: 18\n",
      "  700\t loss: -0.8498102426528931\t episode length: 22\n",
      "  800\t loss: 0.6847176551818848\t episode length: 41\n",
      "  900\t loss: -2.220353364944458\t episode length: 31\n",
      " 1000\t loss: -1.0102550983428955\t episode length: 30\n",
      " 1100\t loss: -0.9833499789237976\t episode length: 13\n",
      " 1200\t loss: 0.3957787752151489\t episode length: 19\n",
      " 1300\t loss: 1.063144326210022\t episode length: 23\n",
      " 1400\t loss: 1.395074486732483\t episode length: 26\n",
      " 1500\t loss: 1.491803526878357\t episode length: 30\n",
      " 1600\t loss: -1.6472381353378296\t episode length: 36\n",
      " 1700\t loss: 1.4878149032592773\t episode length: 73\n",
      " 1800\t loss: -0.37834709882736206\t episode length: 54\n",
      " 1900\t loss: -1.4770089387893677\t episode length: 90\n",
      " 2000\t loss: 1.028965711593628\t episode length: 47\n",
      " 2100\t loss: 0.3178386390209198\t episode length: 18\n",
      " 2200\t loss: 1.2334165573120117\t episode length: 15\n",
      " 2300\t loss: -1.346287727355957\t episode length: 28\n",
      " 2400\t loss: 1.1630566120147705\t episode length: 85\n",
      " 2500\t loss: 0.1471308469772339\t episode length: 161\n",
      " 2600\t loss: 1.8539022207260132\t episode length: 133\n",
      " 2700\t loss: -1.6152392625808716\t episode length: 97\n",
      " 2800\t loss: 1.7124345302581787\t episode length: 218\n",
      " 2900\t loss: -4.458244323730469\t episode length: 300\n",
      " 3000\t loss: 1.0339810848236084\t episode length: 356\n",
      " 3100\t loss: 0.740027904510498\t episode length: 315\n",
      " 3200\t loss: -5.4004411697387695\t episode length: 73\n",
      " 3300\t loss: 0.5589208006858826\t episode length: 51\n",
      " 3400\t loss: -0.026296019554138184\t episode length: 130\n",
      " 3500\t loss: -2.4542746543884277\t episode length: 47\n",
      " 3600\t loss: 3.7951254844665527\t episode length: 255\n",
      " 3700\t loss: -1.054905891418457\t episode length: 143\n",
      " 3800\t loss: 4.035967826843262\t episode length: 159\n",
      " 3900\t loss: 2.0191116333007812\t episode length: 266\n",
      " 4000\t loss: 6.5078606605529785\t episode length: 202\n",
      " 4100\t loss: -1.8942456245422363\t episode length: 94\n",
      " 4200\t loss: -13.9768705368042\t episode length: 225\n",
      " 4300\t loss: -8.624035835266113\t episode length: 263\n",
      " 4400\t loss: -2.9787893295288086\t episode length: 195\n",
      " 4500\t loss: 1.160462498664856\t episode length: 237\n",
      " 4600\t loss: 3.767078399658203\t episode length: 251\n",
      " 4700\t loss: -0.012911200523376465\t episode length: 187\n",
      " 4800\t loss: 2.8024396896362305\t episode length: 198\n",
      " 4900\t loss: 5.777156829833984\t episode length: 238\n",
      " 5000\t loss: 6.722484111785889\t episode length: 182\n",
      " 5100\t loss: 0.4556565284729004\t episode length: 187\n",
      " 5200\t loss: -0.5756043195724487\t episode length: 234\n",
      " 5300\t loss: 1.9228030443191528\t episode length: 293\n",
      " 5400\t loss: 3.226339340209961\t episode length: 148\n",
      " 5500\t loss: 2.1324234008789062\t episode length: 136\n",
      " 5600\t loss: 3.3349392414093018\t episode length: 174\n",
      " 5700\t loss: 1.917769193649292\t episode length: 123\n",
      " 5800\t loss: 5.641775131225586\t episode length: 183\n",
      " 5900\t loss: 2.1071746349334717\t episode length: 140\n",
      " 6000\t loss: -4.121448040008545\t episode length: 248\n",
      " 6100\t loss: -2.1346354484558105\t episode length: 270\n",
      " 6200\t loss: 0.4987744092941284\t episode length: 238\n",
      " 6300\t loss: 0.7271014451980591\t episode length: 311\n",
      " 6400\t loss: 4.836886405944824\t episode length: 358\n",
      " 6500\t loss: 4.070432186126709\t episode length: 247\n",
      " 6600\t loss: -0.733100414276123\t episode length: 191\n",
      " 6700\t loss: 0.49201154708862305\t episode length: 316\n",
      " 6800\t loss: -0.2391343116760254\t episode length: 164\n",
      " 6900\t loss: 5.6483330726623535\t episode length: 243\n",
      " 7000\t loss: -0.45132601261138916\t episode length: 274\n",
      " 7100\t loss: 5.693927764892578\t episode length: 227\n",
      " 7200\t loss: 6.2481913566589355\t episode length: 306\n",
      " 7300\t loss: -1.0091521739959717\t episode length: 536\n",
      " 7400\t loss: 9.640483856201172\t episode length: 494\n",
      " 7500\t loss: 4.422626495361328\t episode length: 462\n",
      " 7600\t loss: 2.330996036529541\t episode length: 254\n",
      " 7700\t loss: 4.828668594360352\t episode length: 188\n",
      " 7800\t loss: 3.8747363090515137\t episode length: 257\n",
      " 7900\t loss: 3.269674062728882\t episode length: 135\n",
      " 8000\t loss: 1.1721323728561401\t episode length: 247\n",
      " 8100\t loss: 1.9782397747039795\t episode length: 217\n",
      " 8200\t loss: -5.513381481170654\t episode length: 200\n",
      " 8300\t loss: 8.751541137695312\t episode length: 418\n",
      " 8400\t loss: 2.425401449203491\t episode length: 132\n",
      " 8500\t loss: 6.735955238342285\t episode length: 363\n",
      " 8600\t loss: -14.138823509216309\t episode length: 142\n",
      " 8700\t loss: 0.4069061279296875\t episode length: 228\n",
      " 8800\t loss: 2.89033842086792\t episode length: 231\n",
      " 8900\t loss: -1.1479902267456055\t episode length: 120\n"
     ]
    },
    {
     "data": {
      "text/plain": [
       "[<matplotlib.lines.Line2D at 0x24230f60c90>]"
      ]
     },
     "execution_count": 95,
     "metadata": {},
     "output_type": "execute_result"
    },
    {
     "data": {
      "image/png": "[encoded data removed]",
      "text/plain": [
       "<Figure size 640x480 with 1 Axes>"
      ]
     },
     "metadata": {},
     "output_type": "display_data"
    }
   ],
   "source": [
    "def train(model, epochs=10, lr=LR, gamma=GAMMA, max_steps=MAX_STEPS, log_every=100, scores=r_scores, entropy_regularization=ENTROPY_REGULARIZATION):\n",
    "    model = model.to(device)\n",
    "    model.train()\n",
    "    opt = optim.Adam(model.parameters(), lr=lr)\n",
    "    for epoch in range(epochs):\n",
    "        rewards, log_probs, entropies = [], [], []\n",
    "        explored = 0\n",
    "        state, _ = env.reset()\n",
    "        # forward\n",
    "        for t in range(max_steps):\n",
    "            # this feel bad performance wise, 1 cycle GPU, 1 cycle CPU\n",
    "            # it's too much context switching\n",
    "            # how can I benchmark this in a notebook?\n",
    "            actions = model(torch.tensor(state).float().to(device))\n",
    "            action = torch.multinomial(actions, 1)\n",
    "            explored += action == actions.argmax()\n",
    "            state, reward, done, _, _ = env.step(action.item())\n",
    "            rewards.append(reward)\n",
    "            log_probs.append(actions[action].log())\n",
    "            entropies.append(-(actions * torch.log(actions)).sum()) # prey for no NaNs (otherwise add a + EPS)\n",
    "            if done:\n",
    "                break\n",
    "        # backward\n",
    "        losses = []\n",
    "        discounted_rewards = discount_rewards(rewards, gamma)\n",
    "        normalized_discounted_rewards = (discounted_rewards - discounted_rewards.mean()) / (discounted_rewards.std() + EPS)\n",
    "        for log_prob, reward in zip(log_probs, normalized_discounted_rewards):\n",
    "            losses.append(-log_prob * reward)\n",
    "        entropy_loss = torch.stack(entropies).sum()        \n",
    "        loss = torch.stack(losses).sum() + entropy_regularization * entropy_loss\n",
    "        opt.zero_grad()\n",
    "        loss.backward()\n",
    "        opt.step()\n",
    "        if epoch % log_every == 0:\n",
    "            print(f'{epoch:5}\\t loss: {loss.item()}\\t explore: {explored / t}\\t episode length: {t}')\n",
    "        scores.append(t)\n",
    "    model.eval()\n",
    "\n",
    "train(r_policy, epochs=10000)\n",
    "plot_score(r_scores)"
   ]
  },
  {
   "cell_type": "code",
   "execution_count": 104,
   "metadata": {},
   "outputs": [],
   "source": [
    "# save\n",
    "# ----\n",
    "# torch.save(r_policy.state_dict(), 'weights/cartpole-reinforce-10k-entropy-regularization.pt')\n",
    "\n",
    "# load\n",
    "# ----\n",
    "# m = ReinforcePolicy(n_in=4, n_out=2).to(device)\n",
    "# m.load_state_dict(torch.load('weights/cartpole-reinforce.pt'))"
   ]
  },
  {
   "cell_type": "markdown",
   "metadata": {},
   "source": [
    "### play"
   ]
  },
  {
   "cell_type": "code",
   "execution_count": 41,
   "metadata": {},
   "outputs": [
    {
     "name": "stdout",
     "output_type": "stream",
     "text": [
      "Episode finished after 128 timesteps\n"
     ]
    },
    {
     "data": {
      "image/png": "[encoded data removed]",
      "text/plain": [
       "<Figure size 500x400 with 1 Axes>"
      ]
     },
     "metadata": {},
     "output_type": "display_data"
    }
   ],
   "source": [
    "show_play(env, policy)"
   ]
  },
  {
   "cell_type": "markdown",
   "metadata": {},
   "source": [
    "### profiling"
   ]
  },
  {
   "cell_type": "code",
   "execution_count": 18,
   "metadata": {},
   "outputs": [],
   "source": [
    "# split the code in a bunch of functions to make the cProfile easier to read\n",
    "\n",
    "def gpu_world(model, arg):\n",
    "    return model(arg)\n",
    "\n",
    "def cpu_world_simulate_env(env, action):\n",
    "    return env.step(action.item())\n",
    "\n",
    "def cpu_world_get_action(actions, log_probs):\n",
    "    # Categorical seems dog slow\n",
    "    # --------------------------\n",
    "    # m = torch.distributions.Categorical(actions)\n",
    "    # action = m.sample()\n",
    "    # log_probs.append(m.log_prob(action))\n",
    "\n",
    "    # multinormal is faster\n",
    "    # ---------------------\n",
    "    action = torch.multinomial(actions, 1)\n",
    "    log_probs.append(torch.log(actions[action]))\n",
    "\n",
    "    # but they should be equivalent\n",
    "    # -----------------------------\n",
    "    # assert m.log_prob(action) - torch.log(actions[action]) < 0.001\n",
    "\n",
    "    return action\n",
    "\n",
    "def cpu_world_sample(rewards, log_probs, env, actions):\n",
    "    action = cpu_world_get_action(actions, log_probs)\n",
    "\n",
    "    state, reward, done, _, _ = cpu_world_simulate_env(env, action)\n",
    "    rewards.append(reward)\n",
    "    return state, done\n",
    "\n",
    "def cpu_world_backward_pass(rewards, log_probs, gamma):\n",
    "    losses = []\n",
    "    discounted_rewards = discount_rewards(rewards, gamma)\n",
    "    normalized_discounted_rewards = (discounted_rewards - discounted_rewards.mean()) / (discounted_rewards.std() + EPS)\n",
    "    for log_prob, reward in zip(log_probs, normalized_discounted_rewards):\n",
    "        losses.append(-log_prob * reward)\n",
    "    return losses\n",
    "\n",
    "def gpu_world_backward_pass(losses, opt):\n",
    "    loss = torch.stack(losses).to(device).sum()\n",
    "    opt.zero_grad()\n",
    "    loss.backward()\n",
    "    opt.step()\n",
    "    return loss\n",
    "\n",
    "def train_for_profiling(model, epochs=100, lr=LR, gamma=GAMMA, max_steps=MAX_STEPS):\n",
    "    model = model.to(device)\n",
    "    model.train()\n",
    "    opt = optim.Adam(model.parameters(), lr=lr)\n",
    "    for epoch in range(epochs):\n",
    "        rewards, log_probs = [], []\n",
    "        state, _ = env.reset()\n",
    "        # forward pass\n",
    "        for _ in range(max_steps):\n",
    "            actions = gpu_world(model, torch.tensor(state).float().to(device))\n",
    "            state, done = cpu_world_sample(rewards, log_probs, env, actions)\n",
    "            if done: break\n",
    "        # backward pass\n",
    "        losses = cpu_world_backward_pass(rewards, log_probs, gamma)\n",
    "        loss = gpu_world_backward_pass(losses, opt)\n",
    "        if epoch % 10 == 0:\n",
    "            print(f'{epoch:5} {loss.item()}')\n",
    "    model.eval()"
   ]
  },
  {
   "cell_type": "code",
   "execution_count": 19,
   "metadata": {},
   "outputs": [
    {
     "name": "stdout",
     "output_type": "stream",
     "text": [
      "    0 -1.3113069534301758\n",
      "   10 1.2661182880401611\n",
      "   20 -0.029778003692626953\n",
      "   30 0.24195194244384766\n",
      "   40 -0.751434326171875\n",
      "   50 0.5891878604888916\n",
      "   60 0.6964113712310791\n",
      "   70 1.4417979717254639\n",
      "   80 0.14848625659942627\n",
      "   90 0.15641844272613525\n",
      "         227136 function calls (209796 primitive calls) in 5.057 seconds\n",
      "\n",
      "   Ordered by: cumulative time\n",
      "\n",
      "   ncalls  tottime  percall  cumtime  percall filename:lineno(function)\n",
      "        1    0.060    0.060    5.057    5.057 C:\\Users\\p\\AppData\\Local\\Temp\\ipykernel_33816\\4058240708.py:49(train_for_profiling)\n",
      "      100    0.001    0.000    1.921    0.019 C:\\Users\\p\\AppData\\Local\\Temp\\ipykernel_33816\\4058240708.py:42(gpu_world_backward_pass)\n",
      "      100    0.001    0.000    1.843    0.018 c:\\Users\\p\\Desktop\\_ML\\huggingface-nlp-course\\venv\\Lib\\site-packages\\torch\\_tensor.py:428(backward)\n",
      "      100    0.001    0.000    1.841    0.018 c:\\Users\\p\\Desktop\\_ML\\huggingface-nlp-course\\venv\\Lib\\site-packages\\torch\\autograd\\__init__.py:106(backward)\n",
      "      100    1.836    0.018    1.836    0.018 {method 'run_backward' of 'torch._C._EngineBase' objects}\n",
      "     3462    0.007    0.000    1.729    0.000 C:\\Users\\p\\AppData\\Local\\Temp\\ipykernel_33816\\4058240708.py:27(cpu_world_sample)\n",
      "     3462    0.149    0.000    1.411    0.000 C:\\Users\\p\\AppData\\Local\\Temp\\ipykernel_33816\\4058240708.py:9(cpu_world_get_action)\n",
      "     3462    1.187    0.000    1.187    0.000 {built-in method torch.multinomial}\n",
      "     3462    0.004    0.000    0.874    0.000 C:\\Users\\p\\AppData\\Local\\Temp\\ipykernel_33816\\4058240708.py:3(gpu_world)\n",
      "20772/3462    0.048    0.000    0.869    0.000 c:\\Users\\p\\Desktop\\_ML\\huggingface-nlp-course\\venv\\Lib\\site-packages\\torch\\nn\\modules\\module.py:1494(_call_impl)\n",
      "     3462    0.009    0.000    0.854    0.000 C:\\Users\\p\\AppData\\Local\\Temp\\ipykernel_33816\\1237419200.py:11(forward)\n",
      "     3462    0.038    0.000    0.832    0.000 c:\\Users\\p\\Desktop\\_ML\\huggingface-nlp-course\\venv\\Lib\\site-packages\\torch\\nn\\modules\\container.py:215(forward)\n",
      "     6924    0.024    0.000    0.530    0.000 c:\\Users\\p\\Desktop\\_ML\\huggingface-nlp-course\\venv\\Lib\\site-packages\\torch\\nn\\modules\\linear.py:113(forward)\n",
      "     6924    0.498    0.000    0.498    0.000 {built-in method torch._C._nn.linear}\n",
      "     3462    0.007    0.000    0.311    0.000 C:\\Users\\p\\AppData\\Local\\Temp\\ipykernel_33816\\4058240708.py:6(cpu_world_simulate_env)\n",
      "     3670    0.247    0.000    0.247    0.000 {method 'to' of 'torch._C._TensorBase' objects}\n",
      "     4272    0.232    0.000    0.232    0.000 {method 'item' of 'torch._C._TensorBase' objects}\n",
      "      100    0.138    0.001    0.159    0.002 C:\\Users\\p\\AppData\\Local\\Temp\\ipykernel_33816\\4058240708.py:34(cpu_world_backward_pass)\n",
      "     3462    0.004    0.000    0.107    0.000 c:\\Users\\p\\Desktop\\_ML\\huggingface-nlp-course\\venv\\Lib\\site-packages\\torch\\nn\\modules\\activation.py:102(forward)\n",
      "     3462    0.005    0.000    0.104    0.000 c:\\Users\\p\\Desktop\\_ML\\huggingface-nlp-course\\venv\\Lib\\site-packages\\torch\\nn\\functional.py:1446(relu)\n",
      "     3462    0.004    0.000    0.099    0.000 c:\\Users\\p\\Desktop\\_ML\\huggingface-nlp-course\\venv\\Lib\\site-packages\\torch\\nn\\modules\\activation.py:1481(forward)\n",
      "     3462    0.097    0.000    0.097    0.000 {built-in method torch.relu}\n",
      "     3462    0.005    0.000    0.095    0.000 c:\\Users\\p\\Desktop\\_ML\\huggingface-nlp-course\\venv\\Lib\\site-packages\\torch\\nn\\functional.py:1813(softmax)\n",
      "     3462    0.089    0.000    0.089    0.000 {method 'softmax' of 'torch._C._TensorBase' objects}\n",
      "     3462    0.006    0.000    0.074    0.000 c:\\Users\\p\\Desktop\\_ML\\huggingface-nlp-course\\venv\\Lib\\site-packages\\gymnasium\\wrappers\\time_limit.py:46(step)\n",
      "     3462    0.074    0.000    0.074    0.000 {built-in method torch.log}\n",
      "     3462    0.003    0.000    0.069    0.000 c:\\Users\\p\\Desktop\\_ML\\huggingface-nlp-course\\venv\\Lib\\site-packages\\gymnasium\\wrappers\\order_enforcing.py:52(step)\n",
      "     3462    0.003    0.000    0.066    0.000 c:\\Users\\p\\Desktop\\_ML\\huggingface-nlp-course\\venv\\Lib\\site-packages\\gymnasium\\wrappers\\env_checker.py:45(step)\n",
      "     3566    0.064    0.000    0.064    0.000 {built-in method torch.tensor}\n",
      "     3462    0.030    0.000    0.063    0.000 c:\\Users\\p\\Desktop\\_ML\\huggingface-nlp-course\\venv\\Lib\\site-packages\\gymnasium\\envs\\classic_control\\cartpole.py:132(step)\n",
      "      100    0.003    0.000    0.061    0.001 c:\\Users\\p\\Desktop\\_ML\\huggingface-nlp-course\\venv\\Lib\\site-packages\\torch\\optim\\optimizer.py:265(wrapper)\n",
      "      100    0.001    0.000    0.051    0.001 c:\\Users\\p\\Desktop\\_ML\\huggingface-nlp-course\\venv\\Lib\\site-packages\\torch\\optim\\optimizer.py:29(_use_grad)\n",
      "      100    0.001    0.000    0.049    0.000 c:\\Users\\p\\Desktop\\_ML\\huggingface-nlp-course\\venv\\Lib\\site-packages\\torch\\optim\\adam.py:108(step)\n",
      "      100    0.001    0.000    0.042    0.000 c:\\Users\\p\\Desktop\\_ML\\huggingface-nlp-course\\venv\\Lib\\site-packages\\torch\\optim\\adam.py:231(adam)\n",
      "      100    0.002    0.000    0.039    0.000 c:\\Users\\p\\Desktop\\_ML\\huggingface-nlp-course\\venv\\Lib\\site-packages\\torch\\optim\\adam.py:396(_multi_tensor_adam)\n",
      "    20872    0.028    0.000    0.028    0.000 {built-in method torch._C._get_tracing_state}\n",
      "     3462    0.018    0.000    0.019    0.000 c:\\Users\\p\\Desktop\\_ML\\huggingface-nlp-course\\venv\\Lib\\site-packages\\gymnasium\\spaces\\discrete.py:94(contains)\n",
      "    17310    0.013    0.000    0.013    0.000 c:\\Users\\p\\Desktop\\_ML\\huggingface-nlp-course\\venv\\Lib\\site-packages\\torch\\nn\\modules\\module.py:1601(__getattr__)\n",
      "     3562    0.012    0.000    0.012    0.000 {built-in method numpy.array}\n",
      "      100    0.001    0.000    0.010    0.000 C:\\Users\\p\\AppData\\Local\\Temp\\ipykernel_33816\\2433881706.py:1(discount_rewards)\n",
      "      100    0.002    0.000    0.009    0.000 c:\\Users\\p\\Desktop\\_ML\\huggingface-nlp-course\\venv\\Lib\\site-packages\\torch\\optim\\optimizer.py:435(zero_grad)\n",
      "      200    0.001    0.000    0.008    0.000 c:\\Users\\p\\Desktop\\_ML\\huggingface-nlp-course\\venv\\Lib\\site-packages\\torch\\autograd\\profiler.py:491(__enter__)\n",
      "      200    0.000    0.000    0.007    0.000 c:\\Users\\p\\Desktop\\_ML\\huggingface-nlp-course\\venv\\Lib\\site-packages\\torch\\_ops.py:497(__call__)\n",
      "      200    0.006    0.000    0.006    0.000 {built-in method torch._foreach_add_}\n",
      "      200    0.006    0.000    0.006    0.000 {built-in method torch._ops.profiler._record_function_enter_new}\n",
      "      200    0.005    0.000    0.005    0.000 {built-in method torch._foreach_mul_}\n",
      "      100    0.005    0.000    0.005    0.000 {built-in method torch.stack}\n",
      "      100    0.000    0.000    0.005    0.000 c:\\Users\\p\\Desktop\\_ML\\huggingface-nlp-course\\venv\\Lib\\site-packages\\gymnasium\\wrappers\\time_limit.py:65(reset)\n",
      "     3462    0.003    0.000    0.005    0.000 c:\\Users\\p\\Desktop\\_ML\\huggingface-nlp-course\\venv\\Lib\\site-packages\\torch\\nn\\modules\\container.py:207(__iter__)\n",
      "      100    0.000    0.000    0.005    0.000 c:\\Users\\p\\Desktop\\_ML\\huggingface-nlp-course\\venv\\Lib\\site-packages\\gymnasium\\wrappers\\order_enforcing.py:58(reset)\n",
      "      100    0.000    0.000    0.005    0.000 c:\\Users\\p\\Desktop\\_ML\\huggingface-nlp-course\\venv\\Lib\\site-packages\\torch\\_tensor.py:920(__iter__)\n",
      "      100    0.000    0.000    0.004    0.000 c:\\Users\\p\\Desktop\\_ML\\huggingface-nlp-course\\venv\\Lib\\site-packages\\gymnasium\\wrappers\\env_checker.py:53(reset)\n",
      "      100    0.000    0.000    0.004    0.000 c:\\Users\\p\\Desktop\\_ML\\huggingface-nlp-course\\venv\\Lib\\site-packages\\torch\\utils\\_contextlib.py:112(decorate_context)\n",
      "      100    0.001    0.000    0.004    0.000 c:\\Users\\p\\Desktop\\_ML\\huggingface-nlp-course\\venv\\Lib\\site-packages\\gymnasium\\envs\\classic_control\\cartpole.py:193(reset)\n",
      "      100    0.001    0.000    0.004    0.000 c:\\Users\\p\\Desktop\\_ML\\huggingface-nlp-course\\venv\\Lib\\site-packages\\torch\\autograd\\__init__.py:50(_make_grads)\n",
      "      100    0.004    0.000    0.004    0.000 {built-in method torch._foreach_add}\n",
      "      100    0.004    0.000    0.004    0.000 {method 'unbind' of 'torch._C._TensorBase' objects}\n",
      "      200    0.002    0.000    0.004    0.000 c:\\Users\\p\\Desktop\\_ML\\huggingface-nlp-course\\venv\\Lib\\site-packages\\torch\\autograd\\profiler.py:495(__exit__)\n",
      "      100    0.004    0.000    0.004    0.000 {built-in method torch._foreach_sqrt}\n",
      "      100    0.000    0.000    0.003    0.000 c:\\Users\\p\\Desktop\\_ML\\huggingface-nlp-course\\venv\\Lib\\site-packages\\torch\\optim\\optimizer.py:228(_cuda_graph_capture_health_check)\n",
      "      100    0.003    0.000    0.003    0.000 {built-in method torch.ones_like}\n",
      "     3462    0.003    0.000    0.003    0.000 {method 'float' of 'torch._C._TensorBase' objects}\n",
      "      100    0.003    0.000    0.003    0.000 {method 'mean' of 'torch._C._TensorBase' objects}\n",
      "      100    0.002    0.000    0.003    0.000 c:\\Users\\p\\Desktop\\_ML\\huggingface-nlp-course\\venv\\Lib\\site-packages\\torch\\utils\\_foreach_utils.py:20(_group_tensors_by_device_and_dtype)\n",
      "    17949    0.003    0.000    0.003    0.000 {method 'append' of 'list' objects}\n",
      "      100    0.003    0.000    0.003    0.000 {method 'std' of 'torch._C._TensorBase' objects}\n",
      "      100    0.003    0.000    0.003    0.000 {built-in method torch._foreach_addcdiv_}\n",
      "      100    0.003    0.000    0.003    0.000 {built-in method torch._foreach_addcmul_}\n",
      "      100    0.003    0.000    0.003    0.000 {built-in method torch._foreach_div_}\n",
      "     7024    0.003    0.000    0.003    0.000 {built-in method torch._C._has_torch_function_unary}\n",
      "      100    0.003    0.000    0.003    0.000 {method 'sum' of 'torch._C._TensorBase' objects}\n",
      "      100    0.002    0.000    0.002    0.000 c:\\Users\\p\\Desktop\\_ML\\huggingface-nlp-course\\venv\\Lib\\site-packages\\torch\\optim\\adam.py:66(_init_group)\n",
      "      100    0.002    0.000    0.002    0.000 {method 'uniform' of 'numpy.random._generator.Generator' objects}\n",
      "      100    0.000    0.000    0.002    0.000 c:\\Users\\p\\Desktop\\_ML\\huggingface-nlp-course\\venv\\Lib\\site-packages\\torch\\cuda\\__init__.py:94(is_available)\n",
      "      200    0.000    0.000    0.002    0.000 c:\\Users\\p\\Desktop\\_ML\\huggingface-nlp-course\\venv\\Lib\\site-packages\\torch\\_ops.py:286(__call__)\n",
      "      100    0.001    0.000    0.002    0.000 c:\\Users\\p\\Desktop\\_ML\\huggingface-nlp-course\\venv\\Lib\\site-packages\\torch\\optim\\adam.py:489(<listcomp>)\n",
      "      800    0.001    0.000    0.002    0.000 c:\\Users\\p\\Desktop\\_ML\\huggingface-nlp-course\\venv\\Lib\\site-packages\\torch\\optim\\optimizer.py:39(_get_value)\n",
      "       10    0.000    0.000    0.002    0.000 {built-in method builtins.print}\n",
      "       20    0.000    0.000    0.002    0.000 c:\\Users\\p\\Desktop\\_ML\\huggingface-nlp-course\\venv\\Lib\\site-packages\\ipykernel\\iostream.py:610(write)\n",
      "     3462    0.002    0.000    0.002    0.000 {built-in method math.cos}\n",
      "      200    0.002    0.000    0.002    0.000 {built-in method torch._ops.profiler.}\n",
      "      200    0.001    0.000    0.002    0.000 c:\\Users\\p\\Desktop\\_ML\\huggingface-nlp-course\\venv\\Lib\\site-packages\\torch\\autograd\\profiler.py:482(__init__)\n",
      "       20    0.000    0.000    0.002    0.000 c:\\Users\\p\\Desktop\\_ML\\huggingface-nlp-course\\venv\\Lib\\site-packages\\ipykernel\\iostream.py:532(_schedule_flush)\n",
      "       10    0.000    0.000    0.002    0.000 c:\\Users\\p\\Desktop\\_ML\\huggingface-nlp-course\\venv\\Lib\\site-packages\\ipykernel\\iostream.py:243(schedule)\n",
      "      100    0.000    0.000    0.002    0.000 c:\\Users\\p\\Desktop\\_ML\\huggingface-nlp-course\\venv\\Lib\\site-packages\\torch\\cuda\\__init__.py:91(_nvml_based_avail)\n",
      "       10    0.002    0.000    0.002    0.000 c:\\Users\\p\\Desktop\\_ML\\huggingface-nlp-course\\venv\\Lib\\site-packages\\zmq\\sugar\\socket.py:545(send)\n",
      "      100    0.000    0.000    0.001    0.000 <frozen os>:773(getenv)\n",
      "      100    0.000    0.000    0.001    0.000 <frozen _collections_abc>:771(get)\n",
      "4715/4709    0.001    0.000    0.001    0.000 {built-in method builtins.isinstance}\n",
      "      100    0.001    0.000    0.001    0.000 <frozen os>:674(__getitem__)\n",
      "      100    0.000    0.000    0.001    0.000 c:\\Users\\p\\Desktop\\_ML\\huggingface-nlp-course\\venv\\Lib\\site-packages\\torch\\optim\\optimizer.py:64(_default_to_fused_or_foreach)\n",
      "     3562    0.001    0.000    0.001    0.000 {built-in method builtins.iter}\n",
      "      416    0.001    0.000    0.001    0.000 c:\\Users\\p\\Desktop\\_ML\\huggingface-nlp-course\\venv\\Lib\\site-packages\\torch\\autograd\\grad_mode.py:149(__init__)\n",
      "     3462    0.001    0.000    0.001    0.000 {built-in method math.sin}\n",
      "      100    0.000    0.000    0.001    0.000 c:\\Users\\p\\Desktop\\_ML\\huggingface-nlp-course\\venv\\Lib\\site-packages\\torch\\optim\\adam.py:494(<listcomp>)\n",
      "      300    0.000    0.000    0.001    0.000 {built-in method builtins.all}\n",
      "      100    0.000    0.000    0.001    0.000 c:\\Users\\p\\Desktop\\_ML\\huggingface-nlp-course\\venv\\Lib\\site-packages\\torch\\optim\\adam.py:490(<listcomp>)\n",
      "      400    0.000    0.000    0.001    0.000 c:\\Users\\p\\Desktop\\_ML\\huggingface-nlp-course\\venv\\Lib\\site-packages\\torch\\optim\\optimizer.py:52(_dispatch_sqrt)\n",
      "      100    0.000    0.000    0.001    0.000 c:\\Users\\p\\Desktop\\_ML\\huggingface-nlp-course\\venv\\Lib\\site-packages\\torch\\cuda\\graphs.py:19(is_current_stream_capturing)\n",
      "     3862    0.001    0.000    0.001    0.000 {method 'values' of 'collections.OrderedDict' objects}\n",
      "      100    0.001    0.000    0.001    0.000 {built-in method torch._C._cuda_isCurrentStreamCapturing}\n",
      "     1600    0.001    0.000    0.001    0.000 {built-in method torch.is_complex}\n",
      "      200    0.001    0.000    0.001    0.000 C:\\Python311\\Lib\\typing.py:338(inner)\n",
      "      100    0.000    0.000    0.001    0.000 c:\\Users\\p\\Desktop\\_ML\\huggingface-nlp-course\\venv\\Lib\\site-packages\\torch\\utils\\_contextlib.py:141(clone)\n",
      "      100    0.000    0.000    0.000    0.000 c:\\Users\\p\\Desktop\\_ML\\huggingface-nlp-course\\venv\\Lib\\site-packages\\torch\\optim\\adam.py:433(<listcomp>)\n",
      "        1    0.000    0.000    0.000    0.000 c:\\Users\\p\\Desktop\\_ML\\huggingface-nlp-course\\venv\\Lib\\site-packages\\torch\\nn\\modules\\module.py:1039(to)\n",
      "      6/1    0.000    0.000    0.000    0.000 c:\\Users\\p\\Desktop\\_ML\\huggingface-nlp-course\\venv\\Lib\\site-packages\\torch\\nn\\modules\\module.py:795(_apply)\n",
      "      108    0.000    0.000    0.000    0.000 c:\\Users\\p\\Desktop\\_ML\\huggingface-nlp-course\\venv\\Lib\\site-packages\\torch\\autograd\\grad_mode.py:48(__init__)\n",
      "      100    0.000    0.000    0.000    0.000 c:\\Users\\p\\Desktop\\_ML\\huggingface-nlp-course\\venv\\Lib\\site-packages\\torch\\utils\\_foreach_utils.py:24(<listcomp>)\n",
      "      100    0.000    0.000    0.000    0.000 <frozen os>:748(encodekey)\n",
      "      500    0.000    0.000    0.000    0.000 c:\\Users\\p\\Desktop\\_ML\\huggingface-nlp-course\\venv\\Lib\\site-packages\\torch\\optim\\optimizer.py:72(<genexpr>)\n",
      "      100    0.000    0.000    0.000    0.000 c:\\Users\\p\\Desktop\\_ML\\huggingface-nlp-course\\venv\\Lib\\site-packages\\torch\\utils\\_foreach_utils.py:27(<lambda>)\n",
      "      108    0.000    0.000    0.000    0.000 c:\\Users\\p\\Desktop\\_ML\\huggingface-nlp-course\\venv\\Lib\\site-packages\\torch\\autograd\\grad_mode.py:53(__enter__)\n",
      "      420    0.000    0.000    0.000    0.000 c:\\Users\\p\\Desktop\\_ML\\huggingface-nlp-course\\venv\\Lib\\site-packages\\torch\\_tensor.py:942(__hash__)\n",
      "        8    0.000    0.000    0.000    0.000 c:\\Users\\p\\Desktop\\_ML\\huggingface-nlp-course\\venv\\Lib\\site-packages\\torch\\nn\\modules\\module.py:1139(convert)\n",
      "      100    0.000    0.000    0.000    0.000 c:\\Users\\p\\Desktop\\_ML\\huggingface-nlp-course\\venv\\Lib\\site-packages\\torch\\optim\\adam.py:434(<listcomp>)\n",
      "      100    0.000    0.000    0.000    0.000 c:\\Users\\p\\Desktop\\_ML\\huggingface-nlp-course\\venv\\Lib\\site-packages\\torch\\optim\\adam.py:435(<listcomp>)\n",
      "     1908    0.000    0.000    0.000    0.000 c:\\Users\\p\\Desktop\\_ML\\huggingface-nlp-course\\venv\\Lib\\site-packages\\torch\\_jit_internal.py:1102(is_scripting)\n",
      "     2123    0.000    0.000    0.000    0.000 {built-in method builtins.len}\n",
      "      624    0.000    0.000    0.000    0.000 {built-in method torch.is_grad_enabled}\n",
      "      108    0.000    0.000    0.000    0.000 c:\\Users\\p\\Desktop\\_ML\\huggingface-nlp-course\\venv\\Lib\\site-packages\\torch\\autograd\\grad_mode.py:57(__exit__)\n",
      "      100    0.000    0.000    0.000    0.000 c:\\Users\\p\\Desktop\\_ML\\huggingface-nlp-course\\venv\\Lib\\site-packages\\torch\\cuda\\__init__.py:87(_is_compiled)\n",
      "      500    0.000    0.000    0.000    0.000 c:\\Users\\p\\Desktop\\_ML\\huggingface-nlp-course\\venv\\Lib\\site-packages\\torch\\optim\\adam.py:268(<genexpr>)\n",
      "      100    0.000    0.000    0.000    0.000 c:\\Users\\p\\Desktop\\_ML\\huggingface-nlp-course\\venv\\Lib\\site-packages\\torch\\optim\\adam.py:436(<listcomp>)\n",
      "      101    0.000    0.000    0.000    0.000 {method 'format' of 'str' objects}\n",
      "      416    0.000    0.000    0.000    0.000 {built-in method torch._C._set_grad_enabled}\n",
      "      200    0.000    0.000    0.000    0.000 {built-in method builtins.hasattr}\n",
      "      100    0.000    0.000    0.000    0.000 <frozen os>:742(check_str)\n",
      "        8    0.000    0.000    0.000    0.000 {built-in method torch.zeros_like}\n",
      "      100    0.000    0.000    0.000    0.000 c:\\Users\\p\\Desktop\\_ML\\huggingface-nlp-course\\venv\\Lib\\site-packages\\torch\\utils\\_foreach_utils.py:27(<listcomp>)\n",
      "      100    0.000    0.000    0.000    0.000 c:\\Users\\p\\Desktop\\_ML\\huggingface-nlp-course\\venv\\Lib\\site-packages\\torch\\optim\\adam.py:492(<listcomp>)\n",
      "      100    0.000    0.000    0.000    0.000 {built-in method torch._C._are_functorch_transforms_active}\n",
      "      100    0.000    0.000    0.000    0.000 c:\\Users\\p\\Desktop\\_ML\\huggingface-nlp-course\\venv\\Lib\\site-packages\\torch\\optim\\optimizer.py:46(_stack_if_compiling)\n",
      "        1    0.000    0.000    0.000    0.000 c:\\Users\\p\\Desktop\\_ML\\huggingface-nlp-course\\venv\\Lib\\site-packages\\torch\\optim\\adam.py:14(__init__)\n",
      "      900    0.000    0.000    0.000    0.000 c:\\Users\\p\\Desktop\\_ML\\huggingface-nlp-course\\venv\\Lib\\site-packages\\torch\\_utils.py:786(is_compiling)\n",
      "        1    0.000    0.000    0.000    0.000 c:\\Users\\p\\Desktop\\_ML\\huggingface-nlp-course\\venv\\Lib\\site-packages\\torch\\optim\\optimizer.py:169(__init__)\n",
      "      400    0.000    0.000    0.000    0.000 {built-in method math.sqrt}\n",
      "      301    0.000    0.000    0.000    0.000 {built-in method builtins.getattr}\n",
      "      6/1    0.000    0.000    0.000    0.000 c:\\Users\\p\\Desktop\\_ML\\huggingface-nlp-course\\venv\\Lib\\site-packages\\torch\\nn\\modules\\module.py:2269(train)\n",
      "      420    0.000    0.000    0.000    0.000 {built-in method builtins.id}\n",
      "      100    0.000    0.000    0.000    0.000 c:\\Users\\p\\Desktop\\_ML\\huggingface-nlp-course\\venv\\Lib\\site-packages\\torch\\autograd\\__init__.py:98(_tensor_or_tensors_to_tuple)\n",
      "      100    0.000    0.000    0.000    0.000 c:\\Users\\p\\Desktop\\_ML\\huggingface-nlp-course\\venv\\Lib\\site-packages\\gymnasium\\core.py:215(np_random)\n",
      "       10    0.000    0.000    0.000    0.000 C:\\Python311\\Lib\\threading.py:1185(is_alive)\n",
      "      100    0.000    0.000    0.000    0.000 {method 'numel' of 'torch._C._TensorBase' objects}\n",
      "      100    0.000    0.000    0.000    0.000 {built-in method torch._C._cuda_getDeviceCount}\n",
      "      100    0.000    0.000    0.000    0.000 {method 'dim' of 'torch._C._TensorBase' objects}\n",
      "      122    0.000    0.000    0.000    0.000 {method 'get' of 'dict' objects}\n",
      "      100    0.000    0.000    0.000    0.000 {method 'upper' of 'str' objects}\n",
      "      200    0.000    0.000    0.000    0.000 {method '__exit__' of 'torch._C.DisableTorchFunctionSubclass' objects}\n",
      "       20    0.000    0.000    0.000    0.000 c:\\Users\\p\\Desktop\\_ML\\huggingface-nlp-course\\venv\\Lib\\site-packages\\ipykernel\\iostream.py:505(_is_master_process)\n",
      "       22    0.000    0.000    0.000    0.000 c:\\Users\\p\\Desktop\\_ML\\huggingface-nlp-course\\venv\\Lib\\site-packages\\torch\\nn\\modules\\module.py:2167(children)\n",
      "        5    0.000    0.000    0.000    0.000 c:\\Users\\p\\Desktop\\_ML\\huggingface-nlp-course\\venv\\Lib\\site-packages\\torch\\nn\\modules\\module.py:2059(parameters)\n",
      "        8    0.000    0.000    0.000    0.000 c:\\Users\\p\\Desktop\\_ML\\huggingface-nlp-course\\venv\\Lib\\site-packages\\torch\\nn\\modules\\module.py:799(compute_should_use_set_data)\n",
      "        6    0.000    0.000    0.000    0.000 c:\\Users\\p\\Desktop\\_ML\\huggingface-nlp-course\\venv\\Lib\\site-packages\\torch\\nn\\modules\\module.py:1617(__setattr__)\n",
      "        5    0.000    0.000    0.000    0.000 c:\\Users\\p\\Desktop\\_ML\\huggingface-nlp-course\\venv\\Lib\\site-packages\\torch\\nn\\modules\\module.py:2084(named_parameters)\n",
      "        5    0.000    0.000    0.000    0.000 c:\\Users\\p\\Desktop\\_ML\\huggingface-nlp-course\\venv\\Lib\\site-packages\\torch\\nn\\modules\\module.py:2045(_named_members)\n",
      "       10    0.000    0.000    0.000    0.000 C:\\Python311\\Lib\\threading.py:1118(_wait_for_tstate_lock)\n",
      "      100    0.000    0.000    0.000    0.000 c:\\Users\\p\\Desktop\\_ML\\huggingface-nlp-course\\venv\\Lib\\site-packages\\gymnasium\\core.py:121(reset)\n",
      "       22    0.000    0.000    0.000    0.000 c:\\Users\\p\\Desktop\\_ML\\huggingface-nlp-course\\venv\\Lib\\site-packages\\torch\\nn\\modules\\module.py:2176(named_children)\n",
      "        8    0.000    0.000    0.000    0.000 {built-in method torch._has_compatible_shallow_copy_type}\n",
      "      200    0.000    0.000    0.000    0.000 c:\\Users\\p\\Desktop\\_ML\\huggingface-nlp-course\\venv\\Lib\\site-packages\\torch\\jit\\__init__.py:89(annotate)\n",
      "        1    0.000    0.000    0.000    0.000 c:\\Users\\p\\Desktop\\_ML\\huggingface-nlp-course\\venv\\Lib\\site-packages\\torch\\optim\\optimizer.py:489(add_param_group)\n",
      "      100    0.000    0.000    0.000    0.000 c:\\Users\\p\\Desktop\\_ML\\huggingface-nlp-course\\venv\\Lib\\site-packages\\gymnasium\\envs\\classic_control\\utils.py:17(maybe_parse_reset_bounds)\n",
      "      100    0.000    0.000    0.000    0.000 {method 'values' of 'dict' objects}\n",
      "       10    0.000    0.000    0.000    0.000 c:\\Users\\p\\Desktop\\_ML\\huggingface-nlp-course\\venv\\Lib\\site-packages\\ipykernel\\iostream.py:127(_event_pipe)\n",
      "      100    0.000    0.000    0.000    0.000 c:\\Users\\p\\Desktop\\_ML\\huggingface-nlp-course\\venv\\Lib\\site-packages\\torch\\optim\\optimizer.py:249(_optimizer_step_code)\n",
      "     21/7    0.000    0.000    0.000    0.000 c:\\Users\\p\\Desktop\\_ML\\huggingface-nlp-course\\venv\\Lib\\site-packages\\torch\\nn\\modules\\module.py:2224(named_modules)\n",
      "        6    0.000    0.000    0.000    0.000 c:\\Users\\p\\Desktop\\_ML\\huggingface-nlp-course\\venv\\Lib\\site-packages\\torch\\nn\\parameter.py:8(__instancecheck__)\n",
      "       10    0.000    0.000    0.000    0.000 {method 'acquire' of '_thread.lock' objects}\n",
      "        8    0.000    0.000    0.000    0.000 {method 'is_floating_point' of 'torch._C._TensorBase' objects}\n",
      "       20    0.000    0.000    0.000    0.000 {built-in method nt.getpid}\n",
      "       20    0.000    0.000    0.000    0.000 {method 'write' of '_io.StringIO' objects}\n",
      "        1    0.000    0.000    0.000    0.000 {built-in method torch._C._nn._parse_to}\n",
      "        1    0.000    0.000    0.000    0.000 {built-in method torch._C._log_api_usage_once}\n",
      "       20    0.000    0.000    0.000    0.000 {method '__exit__' of '_thread.RLock' objects}\n",
      "       10    0.000    0.000    0.000    0.000 C:\\Python311\\Lib\\threading.py:568(is_set)\n",
      "        1    0.000    0.000    0.000    0.000 c:\\Users\\p\\Desktop\\_ML\\huggingface-nlp-course\\venv\\Lib\\site-packages\\torch\\optim\\optimizer.py:291(_patch_step_function)\n",
      "       20    0.000    0.000    0.000    0.000 {method 'add' of 'set' objects}\n",
      "       10    0.000    0.000    0.000    0.000 {method 'append' of 'collections.deque' objects}\n",
      "       36    0.000    0.000    0.000    0.000 {method 'items' of 'collections.OrderedDict' objects}\n",
      "        6    0.000    0.000    0.000    0.000 c:\\Users\\p\\Desktop\\_ML\\huggingface-nlp-course\\venv\\Lib\\site-packages\\torch\\nn\\modules\\module.py:2113(<lambda>)\n",
      "       10    0.000    0.000    0.000    0.000 {method 'setdefault' of 'dict' objects}\n",
      "        6    0.000    0.000    0.000    0.000 {function _ParameterMeta.__instancecheck__ at 0x0000024173B3B6A0}\n",
      "        8    0.000    0.000    0.000    0.000 c:\\Users\\p\\Desktop\\_ML\\huggingface-nlp-course\\venv\\Lib\\site-packages\\torch\\__future__.py:20(get_overwrite_module_params_on_conversion)\n",
      "        1    0.000    0.000    0.000    0.000 {method 'disable' of '_lsprof.Profiler' objects}\n",
      "        1    0.000    0.000    0.000    0.000 {method 'isdisjoint' of 'set' objects}\n",
      "        1    0.000    0.000    0.000    0.000 {method 'items' of 'dict' objects}\n",
      "\n",
      "\n",
      "\n"
     ]
    }
   ],
   "source": [
    "import cProfile\n",
    "import pstats\n",
    "import io\n",
    "\n",
    "def profile_train(model):\n",
    "    pr = cProfile.Profile()\n",
    "    pr.enable()\n",
    "    train_for_profiling(model)\n",
    "    pr.disable()\n",
    "    s = io.StringIO()\n",
    "    ps = pstats.Stats(pr, stream=s).sort_stats('cumulative')\n",
    "    ps.print_stats()\n",
    "    return s.getvalue()\n",
    "\n",
    "profile_output = profile_train(r_policy)\n",
    "print(profile_output)"
   ]
  },
  {
   "cell_type": "markdown",
   "metadata": {},
   "source": [
    "## REINFORCE with Baseline\n"
   ]
  },
  {
   "cell_type": "markdown",
   "metadata": {},
   "source": [
    "We introduce a `Value` net in the hope to reduce the variance (converge faster). So it's not a pure policy technique anymore.\n",
    "\n",
    "Advantage = discounted_reward - predicted_value"
   ]
  },
  {
   "cell_type": "code",
   "execution_count": 73,
   "metadata": {},
   "outputs": [],
   "source": [
    "LR = 3e-4\n",
    "GAMMA = 0.9\n",
    "MAX_STEPS = 1000\n",
    "N_HIDDEN = 32\n",
    "EPS = torch.finfo(torch.float32).eps"
   ]
  },
  {
   "cell_type": "code",
   "execution_count": 47,
   "metadata": {},
   "outputs": [],
   "source": [
    "class ReinforceBaselinePolicy(nn.Module):\n",
    "    def __init__(self, n_in, n_out, n_hidden=N_HIDDEN):\n",
    "        super().__init__()\n",
    "        self.f = nn.Sequential(\n",
    "            nn.Linear(n_in, n_hidden),\n",
    "            nn.ReLU(),\n",
    "            nn.Linear(n_hidden, n_out),\n",
    "            nn.Softmax(dim=-1)\n",
    "        )\n",
    "\n",
    "    def forward(self, x):\n",
    "        return self.f(x)\n",
    "    \n",
    "class ReinforceBaselineValue(nn.Module):\n",
    "    def __init__(self, n_in, n_hidden=N_HIDDEN):\n",
    "        super().__init__()\n",
    "        self.f = nn.Sequential(\n",
    "            nn.Linear(n_in, n_hidden),\n",
    "            nn.ReLU(),\n",
    "            nn.Linear(n_hidden, 1)\n",
    "        )\n",
    "\n",
    "    def forward(self, x):\n",
    "        return self.f(x)"
   ]
  },
  {
   "cell_type": "code",
   "execution_count": 48,
   "metadata": {},
   "outputs": [],
   "source": [
    "rb_policy = ReinforceBaselinePolicy(n_in=4, n_out=2).to(device)\n",
    "rb_value = ReinforceBaselineValue(n_in=4).to(device)\n",
    "rb_scores = []"
   ]
  },
  {
   "cell_type": "markdown",
   "metadata": {},
   "source": [
    "### train"
   ]
  },
  {
   "cell_type": "code",
   "execution_count": 78,
   "metadata": {},
   "outputs": [
    {
     "name": "stdout",
     "output_type": "stream",
     "text": [
      "    0\t loss: 12.909524917602539\t episode length: 272\n",
      "  100\t loss: -29.303829193115234\t episode length: 571\n",
      "  200\t loss: 12.189212799072266\t episode length: 194\n",
      "  300\t loss: 17.180675506591797\t episode length: 270\n",
      "  400\t loss: 0.45754432678222656\t episode length: 219\n",
      "  500\t loss: 8.178680419921875\t episode length: 175\n",
      "  600\t loss: -0.1844043731689453\t episode length: 263\n",
      "  700\t loss: 9.82560920715332\t episode length: 317\n",
      "  800\t loss: 1.2620301246643066\t episode length: 234\n",
      "  900\t loss: 2.9114699363708496\t episode length: 202\n"
     ]
    },
    {
     "data": {
      "text/plain": [
       "[<matplotlib.lines.Line2D at 0x2422db84050>]"
      ]
     },
     "execution_count": 78,
     "metadata": {},
     "output_type": "execute_result"
    },
    {
     "data": {
      "image/png": "[encoded data removed]",
      "text/plain": [
       "<Figure size 640x480 with 1 Axes>"
      ]
     },
     "metadata": {},
     "output_type": "display_data"
    }
   ],
   "source": [
    "def rb_train(policy, value, epochs=10, lr=LR, gamma=GAMMA, max_steps=MAX_STEPS, log_every=100, scores=rb_scores):\n",
    "    policy = policy.to(device)\n",
    "    value = value.to(device)\n",
    "    policy.train()\n",
    "    value.train()\n",
    "    opt_p = optim.Adam(policy.parameters(), lr=lr)\n",
    "    opt_v = optim.Adam(value.parameters(), lr=lr)\n",
    "    for epoch in range(epochs):\n",
    "        rewards, log_probs, values = [], [], []\n",
    "        state, _ = env.reset()\n",
    "        # forward\n",
    "        for t in range(max_steps):\n",
    "            state = torch.tensor(state).float().to(device)\n",
    "            values.append(value(state))\n",
    "            actions = policy(state)\n",
    "            action = torch.multinomial(actions, 1)\n",
    "            state, reward, done, _, _ = env.step(action.item())\n",
    "            rewards.append(reward)\n",
    "            log_probs.append(torch.log(actions[action]))\n",
    "            if done:\n",
    "                break\n",
    "        \n",
    "        # backward\n",
    "        values = torch.cat(values)\n",
    "        discounted_rewards = discount_rewards(rewards, gamma)\n",
    "        # backward value\n",
    "        loss = F.mse_loss(values, discounted_rewards)\n",
    "        opt_v.zero_grad()\n",
    "        loss.backward(retain_graph=True)\n",
    "        opt_v.step()\n",
    "        # backward policy\n",
    "        losses = []\n",
    "        advantages = discounted_rewards - values\n",
    "        for log_prob, advantage in zip(log_probs, advantages):\n",
    "            losses.append(-log_prob * advantage)\n",
    "        loss = torch.stack(losses).sum()\n",
    "        opt_p.zero_grad()\n",
    "        loss.backward()\n",
    "        opt_p.step()\n",
    "\n",
    "        if epoch % log_every == 0:\n",
    "            print(f'{epoch:5}\\t loss: {loss.item()}\\t episode length: {t}')\n",
    "        scores.append(t)\n",
    "    policy.eval()\n",
    "    value.eval()\n",
    "\n",
    "rb_train(rb_policy, rb_value, epochs=1000)\n",
    "plot_score(rb_scores)"
   ]
  },
  {
   "cell_type": "code",
   "execution_count": 80,
   "metadata": {},
   "outputs": [],
   "source": [
    "# save\n",
    "# ----\n",
    "# torch.save(rb_policy.state_dict(), 'weights/rb_policy-cartpole.pt')\n",
    "# torch.save(rb_value.state_dict(), 'weights/rb_value-cartpole.pt')\n",
    "\n",
    "# load\n",
    "# ----\n",
    "# mp = ReinforceBaselinePolicy(n_in=4, n_out=2).to(device)\n",
    "# mp.load_state_dict(torch.load('weights/rb_policy-cartpole.pt'))\n",
    "# mv = ReinforceBaselineValue(n_in=4).to(device)\n",
    "# mv.load_state_dict(torch.load('weights/rb_value-cartpole.pt'))"
   ]
  },
  {
   "cell_type": "markdown",
   "metadata": {},
   "source": [
    "### play"
   ]
  },
  {
   "cell_type": "code",
   "execution_count": 82,
   "metadata": {},
   "outputs": [
    {
     "name": "stdout",
     "output_type": "stream",
     "text": [
      "Episode finished after 690 timesteps\n"
     ]
    },
    {
     "data": {
      "image/png": "[encoded data removed]",
      "text/plain": [
       "<Figure size 500x400 with 1 Axes>"
      ]
     },
     "metadata": {},
     "output_type": "display_data"
    }
   ],
   "source": [
    "show_play(env, rb_policy)"
   ]
  },
  {
   "cell_type": "markdown",
   "metadata": {},
   "source": [
    "## Actor Critic"
   ]
  },
  {
   "cell_type": "markdown",
   "metadata": {},
   "source": [
    "Similar to REINFORCE with Baseline but include TD (Temporal Difference) method so we are more sample efficient (aka. we can train on individual steps instead of entire episodes)."
   ]
  },
  {
   "cell_type": "code",
   "execution_count": 83,
   "metadata": {},
   "outputs": [],
   "source": [
    "LR = 3e-4\n",
    "GAMMA = 0.9\n",
    "MAX_STEPS = 1000\n",
    "N_HIDDEN = 32\n",
    "EPS = torch.finfo(torch.float32).eps"
   ]
  },
  {
   "cell_type": "code",
   "execution_count": null,
   "metadata": {},
   "outputs": [],
   "source": [
    "class Actor(nn.Module):\n",
    "    def __init__(self, n_in, n_out, n_hidden=N_HIDDEN):\n",
    "        super().__init__()\n",
    "        self.f = nn.Sequential(\n",
    "            nn.Linear(n_in, n_hidden),\n",
    "            nn.ReLU(),\n",
    "            nn.Linear(n_hidden, n_out),\n",
    "            nn.Softmax(dim=-1)\n",
    "        )\n",
    "\n",
    "    def forward(self, x):\n",
    "        return self.f(x)\n",
    "    \n",
    "class Critic(nn.Module):\n",
    "    def __init__(self, n_in, n_hidden=N_HIDDEN):\n",
    "        super().__init__()\n",
    "        self.f = nn.Sequential(\n",
    "            nn.Linear(n_in, n_hidden),\n",
    "            nn.ReLU(),\n",
    "            nn.Linear(n_hidden, 1)\n",
    "        )\n",
    "\n",
    "    def forward(self, x):\n",
    "        return self.f(x)"
   ]
  },
  {
   "cell_type": "code",
   "execution_count": null,
   "metadata": {},
   "outputs": [],
   "source": [
    "ac_actor = Actor(n_in=4, n_out=2).to(device)\n",
    "ac_critic = Critic(n_in=4).to(device)\n",
    "ac_scores = []"
   ]
  },
  {
   "cell_type": "markdown",
   "metadata": {},
   "source": [
    "### train"
   ]
  },
  {
   "cell_type": "code",
   "execution_count": null,
   "metadata": {},
   "outputs": [],
   "source": [
    "def ac_train(actor, critic, epochs=10, lr=LR, gamma=GAMMA, max_steps=MAX_STEPS, log_every=100, scores=ac_scores):\n",
    "    policy = policy.to(device)\n",
    "    value = value.to(device)\n",
    "    policy.train()\n",
    "    value.train()\n",
    "    opt_p = optim.Adam(policy.parameters(), lr=lr)\n",
    "    opt_v = optim.Adam(value.parameters(), lr=lr)\n",
    "    for epoch in range(epochs):\n",
    "        rewards, log_probs, values = [], [], []\n",
    "        state, _ = env.reset()\n",
    "        # forward\n",
    "        for t in range(max_steps):\n",
    "            state = torch.tensor(state).float().to(device)\n",
    "            values.append(value(state))\n",
    "            actions = policy(state)\n",
    "            action = torch.multinomial(actions, 1)\n",
    "            state, reward, done, _, _ = env.step(action.item())\n",
    "            rewards.append(reward)\n",
    "            log_probs.append(torch.log(actions[action]))\n",
    "            if done:\n",
    "                break\n",
    "        \n",
    "        # backward\n",
    "        values = torch.cat(values)\n",
    "        discounted_rewards = discount_rewards(rewards, gamma)\n",
    "        # backward value\n",
    "        loss = F.mse_loss(values, discounted_rewards)\n",
    "        opt_v.zero_grad()\n",
    "        loss.backward(retain_graph=True)\n",
    "        opt_v.step()\n",
    "        # backward policy\n",
    "        losses = []\n",
    "        advantages = discounted_rewards - values\n",
    "        for log_prob, advantage in zip(log_probs, advantages):\n",
    "            losses.append(-log_prob * advantage)\n",
    "        loss = torch.stack(losses).sum()\n",
    "        opt_p.zero_grad()\n",
    "        loss.backward()\n",
    "        opt_p.step()\n",
    "\n",
    "        if epoch % log_every == 0:\n",
    "            print(f'{epoch:5}\\t loss: {loss.item()}\\t episode length: {t}')\n",
    "        scores.append(t)\n",
    "    policy.eval()\n",
    "    value.eval()\n",
    "\n",
    "ac_train(ac_actor, ac_critic, epochs=1000)\n",
    "plot_score(ac_scores)"
   ]
  },
  {
   "cell_type": "code",
   "execution_count": null,
   "metadata": {},
   "outputs": [],
   "source": [
    "# save\n",
    "# ----\n",
    "# torch.save(actor.state_dict(), 'weights/ac_actor-cartpole.pt')\n",
    "# torch.save(critic.state_dict(), 'weights/ac_critic-cartpole.pt')\n",
    "\n",
    "# load\n",
    "# ----\n",
    "# ac_a = Actor(n_in=4, n_out=2).to(device)\n",
    "# ac_a.load_state_dict(torch.load('weights/ac_actor-cartpole.pt'))\n",
    "# ac_c = Critic(n_in=4).to(device)\n",
    "# ac_c.load_state_dict(torch.load('weights/ac_critic-cartpole.pt'))"
   ]
  },
  {
   "cell_type": "markdown",
   "metadata": {},
   "source": [
    "### play"
   ]
  },
  {
   "cell_type": "markdown",
   "metadata": {},
   "source": [
    "## A2C (Advantage Actor Critic)"
   ]
  },
  {
   "cell_type": "code",
   "execution_count": 20,
   "metadata": {},
   "outputs": [],
   "source": [
    "class Actor(nn.Module):\n",
    "    def __init__(self, n_in, n_out, n_hidden=10):\n",
    "        super().__init__()\n",
    "        self.f = nn.Sequential(\n",
    "            nn.Linear(n_in, n_hidden),\n",
    "            nn.ReLU(),\n",
    "            nn.Linear(n_hidden, n_out),\n",
    "            nn.Softmax(dim=-1)\n",
    "        )\n",
    "\n",
    "    def forward(self, x):\n",
    "        return self.f(x)\n",
    "\n",
    "class Critic(nn.Module):\n",
    "    def __init__(self, n_in, n_hidden=10):\n",
    "        super().__init__()\n",
    "        self.f = nn.Sequential(\n",
    "            nn.Linear(n_in, n_hidden),\n",
    "            nn.ReLU(),\n",
    "            nn.Linear(n_hidden, 1)\n",
    "        )\n",
    "\n",
    "    def forward(self, x):\n",
    "        return self.f(x)\n",
    "\n",
    "actor = Actor(n_in=10, n_out=2)\n",
    "critic = Critic(n_in=10)"
   ]
  },
  {
   "cell_type": "code",
   "execution_count": 21,
   "metadata": {},
   "outputs": [],
   "source": [
    "def train(epochs=100, lr=LR):\n",
    "    actor_opt = optim.Adam(actor.parameters(), lr=lr)\n",
    "    critic_opt = optim.Adam(critic.parameters(), lr=lr)\n",
    "\n",
    "    for epoch in range(epochs):\n",
    "        state = env.reset()\n",
    "        done = False\n",
    "\n",
    "        while not done:\n",
    "            action_probs = actor(torch.from_numpy(state).float())\n",
    "            action = torch.multinomial(action_probs, 1).item()\n",
    "\n",
    "            next_state, reward, done, _ = env.step(action)\n",
    "\n",
    "            V_current = critic(torch.from_numpy(state).float())\n",
    "            V_next = critic(torch.from_numpy(next_state).float())\n",
    "\n",
    "            # Compute advantage and TD-target\n",
    "            advantage = reward + (1 - int(done)) * V_next - V_current\n",
    "            td_target = reward + (1 - int(done)) * V_next\n",
    "\n",
    "            # Update the critic\n",
    "            critic_loss = advantage.pow(2)\n",
    "            critic_opt.zero_grad()\n",
    "            critic_loss.backward()\n",
    "            critic_opt.step()\n",
    "\n",
    "            # Update the actor\n",
    "            actor_loss = -torch.log(action_probs[action]) * advantage.detach()\n",
    "            actor_opt.zero_grad()\n",
    "            actor_loss.backward()\n",
    "            actor_opt.step()\n",
    "\n",
    "            state = next_state"
   ]
  },
  {
   "cell_type": "markdown",
   "metadata": {},
   "source": [
    "# PPO"
   ]
  },
  {
   "cell_type": "markdown",
   "metadata": {},
   "source": [
    "$L^{CPI}(\\theta) = \\mathbb{E}_t [ \\frac{\\pi_\\theta(a_t | s_t)}{\\pi_{{\\theta}_{old}(a_t | s_t)}} A_t] = \\mathbb{E}_t [r_t(\\theta)A_t]$\n",
    "\n",
    "$L^{CLIP}(\\theta) = \\mathbb{E}_t [min(r_t(\\theta)A_t, clip(r_t(\\theta), 1 - \\epsilon, 1 + \\epsilon) A_t)]$\n",
    "\n",
    "\n",
    "- $\\mathbb{E}$ : expected value\n",
    "- $A$: advantage"
   ]
  }
 ],
 "metadata": {
  "kernelspec": {
   "display_name": "venv_hf_nlp",
   "language": "python",
   "name": "venv_hf_nlp"
  },
  "language_info": {
   "codemirror_mode": {
    "name": "ipython",
    "version": 3
   },
   "file_extension": ".py",
   "mimetype": "text/x-python",
   "name": "python",
   "nbconvert_exporter": "python",
   "pygments_lexer": "ipython3",
   "version": "3.11.2"
  }
 },
 "nbformat": 4,
 "nbformat_minor": 2
}
